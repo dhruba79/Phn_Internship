{
 "cells": [
  {
   "cell_type": "code",
   "execution_count": 13,
   "id": "851ab5ae",
   "metadata": {},
   "outputs": [],
   "source": [
    "import openpyxl\n",
    "\n",
    "# Create a new workbook and worksheet\n",
    "workbook = openpyxl.Workbook()\n",
    "worksheet = workbook.active\n",
    "\n",
    "# # Write the header row to the worksheet\n",
    "worksheet.append(['Fruit', 'Quantity'])\n",
    "\n",
    "# Write some example data to the worksheet\n",
    "\n",
    "worksheet.append(['Apple', 10])\n",
    "worksheet.append(['Banana', 15])\n",
    "worksheet.append(['Orange', 20])\n",
    "worksheet.append(['Apple', 5])\n",
    "worksheet.append(['Orange', 10])\n",
    "\n",
    "# Save the workbook to a file\n",
    "workbook.save('example.xlsx')"
   ]
  },
  {
   "cell_type": "code",
   "execution_count": 21,
   "id": "e5737cf4",
   "metadata": {},
   "outputs": [],
   "source": [
    "import openpyxl\n",
    "\n",
    "# Load the workbook\n",
    "workbook = openpyxl.load_workbook('example.xlsx')\n",
    "\n",
    "# Select the active worksheet\n",
    "worksheet = workbook.active\n",
    "\n",
    "# Create a dictionary to store the quantities of each fruit\n",
    "fruit_quantities = {}\n",
    "\n",
    "# Iterate over each row in the worksheet\n",
    "for row in worksheet.iter_rows(min_row=2, values_only=True):\n",
    "    # Get the fruit name and quantity from the row\n",
    "    fruit_name, quantity = row\n",
    "\n",
    "    # Update the fruit quantities in the dictionary\n",
    "    if fruit_name in fruit_quantities:\n",
    "        fruit_quantities[fruit_name] += quantity\n",
    "    else:\n",
    "        fruit_quantities[fruit_name] = quantity\n",
    "\n",
    "# Create a new workbook to store the results\n",
    "new_workbook = openpyxl.Workbook()\n",
    "\n",
    "# Select the active worksheet in the new workbook\n",
    "new_worksheet = new_workbook.active\n",
    "\n",
    "# Write the results to the new worksheet\n",
    "for index, (fruit_name, quantity) in enumerate(fruit_quantities.items()):\n",
    "    # Write the fruit name and quantity to the worksheet\n",
    "    new_worksheet.cell(row=index+1, column=1, value=fruit_name)\n",
    "    new_worksheet.cell(row=index+1, column=2, value=quantity)\n",
    "\n",
    "# Save the new workbook\n",
    "new_workbook.save('result.xlsx')\n"
   ]
  },
  {
   "cell_type": "code",
   "execution_count": 22,
   "id": "8f1034c7",
   "metadata": {},
   "outputs": [],
   "source": [
    "import pandas as pd\n",
    "\n",
    "# Read the Excel file into a pandas DataFrame\n",
    "df = pd.read_excel('result.xlsx')\n",
    "\n",
    "# Write the DataFrame to a CSV file\n",
    "df.to_csv('result.csv', index=False)"
   ]
  },
  {
   "cell_type": "code",
   "execution_count": null,
   "id": "6581c5bf",
   "metadata": {},
   "outputs": [],
   "source": []
  }
 ],
 "metadata": {
  "kernelspec": {
   "display_name": "Python 3 (ipykernel)",
   "language": "python",
   "name": "python3"
  },
  "language_info": {
   "codemirror_mode": {
    "name": "ipython",
    "version": 3
   },
   "file_extension": ".py",
   "mimetype": "text/x-python",
   "name": "python",
   "nbconvert_exporter": "python",
   "pygments_lexer": "ipython3",
   "version": "3.9.12"
  }
 },
 "nbformat": 4,
 "nbformat_minor": 5
}
