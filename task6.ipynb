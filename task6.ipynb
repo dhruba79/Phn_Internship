{
 "cells": [
  {
   "cell_type": "code",
   "execution_count": 1,
   "id": "ea3846e5",
   "metadata": {},
   "outputs": [
    {
     "name": "stdout",
     "output_type": "stream",
     "text": [
      "Mean Squared Error (MSE): 0.0095\n",
      "R-squared (R2): 0.9971\n",
      "Predicted output (coefficients): [[-2.71995188]]\n"
     ]
    }
   ],
   "source": [
    "import numpy as np\n",
    "from sklearn.linear_model import LinearRegression\n",
    "from sklearn.model_selection import train_test_split\n",
    "from sklearn.preprocessing import StandardScaler\n",
    "\n",
    "# Step 1: Dataset Generation\n",
    "# Generate random linear equations with different slopes and intercepts\n",
    "np.random.seed(42)\n",
    "\n",
    "# Generate input variables (X) and corresponding output values (y)\n",
    "n_samples = 1000\n",
    "X = np.random.rand(n_samples, 1)  # Random input values between 0 and 1\n",
    "slope = np.random.uniform(-10, 10)  # Random slope\n",
    "intercept = np.random.uniform(-5, 5)  # Random intercept\n",
    "y = slope * X + intercept + np.random.randn(n_samples, 1) * 0.1  # Add some noise to the equation\n",
    "\n",
    "# Step 2: Data Pre-processing\n",
    "# Normalize input variables (X) using StandardScaler\n",
    "scaler = StandardScaler()\n",
    "X = scaler.fit_transform(X)\n",
    "\n",
    "# Split the dataset into training and testing sets\n",
    "X_train, X_test, y_train, y_test = train_test_split(X, y, test_size=0.2, random_state=42)\n",
    "\n",
    "# Step 3: Model Training and Evaluation\n",
    "# Create and train the linear regression model\n",
    "model = LinearRegression()\n",
    "model.fit(X_train, y_train)\n",
    "\n",
    "# Evaluate the model\n",
    "mse = np.mean((model.predict(X_test) - y_test) ** 2)\n",
    "r2 = model.score(X_test, y_test)\n",
    "\n",
    "print(f\"Mean Squared Error (MSE): {mse:.4f}\")\n",
    "print(f\"R-squared (R2): {r2:.4f}\")\n",
    "\n",
    "# Step 4: Prediction\n",
    "# Predict coefficients of linear equations for new input values\n",
    "new_input = np.array([[0.5]])  # Example new input value\n",
    "new_input = scaler.transform(new_input)  # Normalize the new input value using the same scaler\n",
    "predicted_output = model.predict(new_input)\n",
    "\n",
    "print(f\"Predicted output (coefficients): {predicted_output}\")\n"
   ]
  },
  {
   "cell_type": "code",
   "execution_count": null,
   "id": "4ecb43d8",
   "metadata": {},
   "outputs": [],
   "source": []
  }
 ],
 "metadata": {
  "kernelspec": {
   "display_name": "Python 3 (ipykernel)",
   "language": "python",
   "name": "python3"
  },
  "language_info": {
   "codemirror_mode": {
    "name": "ipython",
    "version": 3
   },
   "file_extension": ".py",
   "mimetype": "text/x-python",
   "name": "python",
   "nbconvert_exporter": "python",
   "pygments_lexer": "ipython3",
   "version": "3.9.12"
  }
 },
 "nbformat": 4,
 "nbformat_minor": 5
}
