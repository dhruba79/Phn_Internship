{
 "cells": [
  {
   "cell_type": "code",
   "execution_count": null,
   "id": "3ee5b2c1",
   "metadata": {},
   "outputs": [],
   "source": [
    "#Create a NumPy array with the following values: [1, 2, 3, 4, 5]."
   ]
  },
  {
   "cell_type": "code",
   "execution_count": 10,
   "id": "b4cb488f",
   "metadata": {},
   "outputs": [],
   "source": [
    "import numpy as np\n",
    "\n",
    "array = np.array([1, 2, 3, 4, 5])\n"
   ]
  },
  {
   "cell_type": "code",
   "execution_count": 11,
   "id": "60f3385f",
   "metadata": {},
   "outputs": [],
   "source": [
    "#Print the shape of the array using the .shape attribute."
   ]
  },
  {
   "cell_type": "code",
   "execution_count": 12,
   "id": "7dec786a",
   "metadata": {},
   "outputs": [
    {
     "name": "stdout",
     "output_type": "stream",
     "text": [
      "5\n"
     ]
    }
   ],
   "source": [
    "print(array.shape[0])"
   ]
  },
  {
   "cell_type": "code",
   "execution_count": 13,
   "id": "f8bb64a7",
   "metadata": {},
   "outputs": [],
   "source": [
    "#Reshape the array into a 2D array with 2 rows and 3 columns"
   ]
  },
  {
   "cell_type": "code",
   "execution_count": 14,
   "id": "b70ef21b",
   "metadata": {},
   "outputs": [
    {
     "name": "stdout",
     "output_type": "stream",
     "text": [
      "[[1 2 3]\n",
      " [4 5 6]]\n"
     ]
    }
   ],
   "source": [
    "array = np.array([1, 2, 3, 4, 5, 6])\n",
    "reshaped_array = array.reshape(2, 3)\n",
    "\n",
    "print(reshaped_array)"
   ]
  },
  {
   "cell_type": "code",
   "execution_count": null,
   "id": "3933ec7e",
   "metadata": {},
   "outputs": [],
   "source": [
    "#Print the shape of the new array."
   ]
  },
  {
   "cell_type": "code",
   "execution_count": 19,
   "id": "bad047da",
   "metadata": {},
   "outputs": [
    {
     "name": "stdout",
     "output_type": "stream",
     "text": [
      "(2, 3)\n"
     ]
    }
   ],
   "source": [
    "print(reshaped_array.shape)"
   ]
  },
  {
   "cell_type": "code",
   "execution_count": 20,
   "id": "f48de7ff",
   "metadata": {},
   "outputs": [],
   "source": [
    "#Create a second NumPy array with the following values: [6, 7, 8, 9, 10]."
   ]
  },
  {
   "cell_type": "code",
   "execution_count": 21,
   "id": "58528ef0",
   "metadata": {},
   "outputs": [],
   "source": [
    "second_array = np.array([6, 7, 8, 9, 10])"
   ]
  },
  {
   "cell_type": "code",
   "execution_count": 22,
   "id": "fb2b73ec",
   "metadata": {},
   "outputs": [
    {
     "data": {
      "text/plain": [
       "array([ 6,  7,  8,  9, 10])"
      ]
     },
     "execution_count": 22,
     "metadata": {},
     "output_type": "execute_result"
    }
   ],
   "source": [
    "second_array"
   ]
  },
  {
   "cell_type": "code",
   "execution_count": 24,
   "id": "87cb5dca",
   "metadata": {},
   "outputs": [],
   "source": [
    "#Concatenate the two arrays together horizontally."
   ]
  },
  {
   "cell_type": "code",
   "execution_count": 26,
   "id": "251b1b0a",
   "metadata": {},
   "outputs": [],
   "source": [
    "concatenated_array = np.hstack((array, second_array))\n",
    "\n"
   ]
  },
  {
   "cell_type": "code",
   "execution_count": 27,
   "id": "aeacf2d7",
   "metadata": {},
   "outputs": [],
   "source": [
    "#Print the resulting array."
   ]
  },
  {
   "cell_type": "code",
   "execution_count": 28,
   "id": "9200c4df",
   "metadata": {},
   "outputs": [
    {
     "name": "stdout",
     "output_type": "stream",
     "text": [
      "[ 1  2  3  4  5  6  6  7  8  9 10]\n"
     ]
    }
   ],
   "source": [
    "print(concatenated_array)"
   ]
  },
  {
   "cell_type": "code",
   "execution_count": 30,
   "id": "c735e75f",
   "metadata": {},
   "outputs": [],
   "source": [
    "#Compute the resulting array's mean, median, and standard deviation."
   ]
  },
  {
   "cell_type": "code",
   "execution_count": 31,
   "id": "0a4ca659",
   "metadata": {},
   "outputs": [
    {
     "name": "stdout",
     "output_type": "stream",
     "text": [
      "Mean: 5.545454545454546\n",
      "Median: 6.0\n",
      "Standard deviation: 2.74238238709061\n"
     ]
    }
   ],
   "source": [
    "mean = np.mean(concatenated_array)\n",
    "median = np.median(concatenated_array)\n",
    "standard_deviation = np.std(concatenated_array)\n",
    "\n",
    "print(\"Mean:\", mean)\n",
    "print(\"Median:\", median)\n",
    "print(\"Standard deviation:\", standard_deviation)"
   ]
  },
  {
   "cell_type": "code",
   "execution_count": null,
   "id": "6c267d6e",
   "metadata": {},
   "outputs": [],
   "source": []
  }
 ],
 "metadata": {
  "kernelspec": {
   "display_name": "Python 3 (ipykernel)",
   "language": "python",
   "name": "python3"
  },
  "language_info": {
   "codemirror_mode": {
    "name": "ipython",
    "version": 3
   },
   "file_extension": ".py",
   "mimetype": "text/x-python",
   "name": "python",
   "nbconvert_exporter": "python",
   "pygments_lexer": "ipython3",
   "version": "3.9.12"
  }
 },
 "nbformat": 4,
 "nbformat_minor": 5
}
